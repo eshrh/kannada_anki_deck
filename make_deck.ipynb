{
 "cells": [
  {
   "cell_type": "code",
   "execution_count": 219,
   "id": "8b2ec20f",
   "metadata": {},
   "outputs": [],
   "source": [
    "import pandas as pd\n",
    "import json\n",
    "import genanki as ga\n",
    "from random import randrange"
   ]
  },
  {
   "cell_type": "code",
   "execution_count": 172,
   "id": "efd88951",
   "metadata": {},
   "outputs": [],
   "source": [
    "corpus = \"kan_wikipedia_2021_300K\"\n",
    "read_csv = lambda f, names: pd.read_csv(f\"{corpus}/{corpus}-{f}\",\n",
    "                                        sep=\"\\t\",\n",
    "                                        names= names,\n",
    "                                        quoting = 3)"
   ]
  },
  {
   "cell_type": "code",
   "execution_count": 173,
   "id": "5f9a7ebe",
   "metadata": {},
   "outputs": [],
   "source": [
    "words = read_csv(\"words.txt\", [\"wid\", \"word\", \"freq\"])\n",
    "words = words[words.wid > 100].iloc[:10000]"
   ]
  },
  {
   "cell_type": "code",
   "execution_count": 174,
   "id": "b84cd9c6",
   "metadata": {},
   "outputs": [],
   "source": [
    "sents = read_csv(\"sentences.txt\", [\"sid\", \"sent\"])\n",
    "sents = sents.set_index(\"sid\")"
   ]
  },
  {
   "cell_type": "code",
   "execution_count": 175,
   "id": "9cde20ba",
   "metadata": {},
   "outputs": [],
   "source": [
    "sent_inv = read_csv(\"inv_w.txt\", [\"wid\", \"sid\", \"spos\"])"
   ]
  },
  {
   "cell_type": "code",
   "execution_count": 177,
   "id": "76bda092",
   "metadata": {},
   "outputs": [],
   "source": [
    "words = pd.merge(words, sent_inv, on = \"wid\").drop_duplicates(\"wid\")\n",
    "words = pd.merge(words, sents.loc[words.sid], on = \"sid\").drop_duplicates(\"wid\")"
   ]
  },
  {
   "cell_type": "code",
   "execution_count": 181,
   "id": "10326d73",
   "metadata": {},
   "outputs": [],
   "source": [
    "alar = pd.read_json(\"alar.json\")\n",
    "alar = alar.drop([\"id\", \"head\", \"origin\", \"info\"], axis = 1)\n",
    "alar.defs = alar.defs.apply(lambda d: \"<br>\".join(\n",
    "    [f\"{n + 1} ({x['type']}). {x['entry']}\" for n, x in enumerate(d)]))\n",
    "alar = alar.groupby(\"entry\").agg({\"phone\": 'first', \"defs\": \"<br>--<br>\".join})\n",
    "alar = alar.reset_index()"
   ]
  },
  {
   "cell_type": "code",
   "execution_count": 183,
   "id": "df9cee7d",
   "metadata": {},
   "outputs": [],
   "source": [
    "words = pd.merge(words, alar, left_on = \"word\", right_on = \"entry\", how = \"inner\")\n",
    "words = words.drop(columns = \"entry\")\n",
    "words = words.iloc[:2500]\n",
    "words = words.drop(columns = [\"wid\", \"sid\"])"
   ]
  },
  {
   "cell_type": "code",
   "execution_count": 220,
   "id": "db58bd88",
   "metadata": {},
   "outputs": [
    {
     "data": {
      "text/plain": [
       "1519689782"
      ]
     },
     "execution_count": 220,
     "metadata": {},
     "output_type": "execute_result"
    }
   ],
   "source": [
    "randrange(1<<30,1<<31)"
   ]
  },
  {
   "cell_type": "code",
   "execution_count": 188,
   "id": "09875b34",
   "metadata": {},
   "outputs": [],
   "source": [
    "backstr = \\\n",
    "\"\"\"\n",
    "{{Expression}}\n",
    "\n",
    "<hr id=answer>\n",
    "\n",
    "{{Definition}}<br>\n",
    "{{Sentence}}<br>\n",
    "{{Phonetic}}<br>\n",
    "\"\"\"\n",
    "model = ga.Model(2144829245,\n",
    "                 \"Sentence pitch model\",\n",
    "                 fields=[{\"name\": \"Expression\"},\n",
    "                         {\"name\": \"Frequency\"},\n",
    "                         {\"name\": \"Sentence Position\"},\n",
    "                         {\"name\": \"Sentence\"},\n",
    "                         {\"name\": \"Phonetic\"},\n",
    "                         {\"name\": \"Definition\"}\n",
    "                        ],\n",
    "                 templates=[\n",
    "                     {\n",
    "                         \"name\": \"kannada vocab\",\n",
    "                         \"qfmt\": \"{{Expression}}\",\n",
    "                         \"afmt\": backstr\n",
    "                     }\n",
    "                 ])"
   ]
  },
  {
   "cell_type": "code",
   "execution_count": 213,
   "id": "eddd25dc",
   "metadata": {},
   "outputs": [],
   "source": [
    "def transform(data):\n",
    "    word = data[0]\n",
    "    sent = data[3]\n",
    "    idx = sent.index(word)\n",
    "    data[3] = f\"{sent[:idx]}<b class = 'word'>{word}</b>{sent[idx + len(word):]}\"\n",
    "    return data"
   ]
  },
  {
   "cell_type": "code",
   "execution_count": 214,
   "id": "b78be058",
   "metadata": {},
   "outputs": [],
   "source": [
    "deck = ga.Deck(2138326564, 'Kannada Wikipedia 2.5k vocabulary')\n",
    "for i in range(len(words)):\n",
    "    data = transform(list(map(str, words.loc[i])))\n",
    "    note = ga.Note(model = model, fields = data)\n",
    "    deck.add_note(note)"
   ]
  },
  {
   "cell_type": "code",
   "execution_count": 215,
   "id": "832ac285",
   "metadata": {},
   "outputs": [],
   "source": [
    "pkg = ga.Package(deck)\n",
    "pkg.write_to_file('output.apkg')"
   ]
  }
 ],
 "metadata": {
  "kernelspec": {
   "display_name": "Python 3 (ipykernel)",
   "language": "python",
   "name": "python3"
  },
  "language_info": {
   "codemirror_mode": {
    "name": "ipython",
    "version": 3
   },
   "file_extension": ".py",
   "mimetype": "text/x-python",
   "name": "python",
   "nbconvert_exporter": "python",
   "pygments_lexer": "ipython3",
   "version": "3.10.5"
  }
 },
 "nbformat": 4,
 "nbformat_minor": 5
}
