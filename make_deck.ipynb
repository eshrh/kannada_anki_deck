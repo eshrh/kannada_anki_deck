{
 "cells": [
  {
   "cell_type": "code",
   "execution_count": null,
   "id": "067c878e",
   "metadata": {
    "collapsed": false
   },
   "outputs": [],
   "source": [
    "import pandas as pd\n",
    "import json\n",
    "import genanki as ga\n",
    "from random import randrange"
   ]
  },
  {
   "cell_type": "code",
   "execution_count": null,
   "id": "08bdaa52",
   "metadata": {
    "collapsed": false
   },
   "outputs": [],
   "source": [
    "# general function to read csv properly\n",
    "# quoting = 3 prevents quotes in the file from messing up data\n",
    "corpus = \"kan_wikipedia_2021_300K\"\n",
    "read_csv = lambda f, names: pd.read_csv(f\"{corpus}/{corpus}-{f}\",\n",
    "                                    sep = \"\\t\",\n",
    "                                    names = names,\n",
    "                                    quoting = 3)"
   ]
  },
  {
   "cell_type": "code",
   "execution_count": null,
   "id": "ef8b6464",
   "metadata": {
    "collapsed": false
   },
   "outputs": [],
   "source": [
    "# read in words from corpus\n",
    "words = read_csv(\"words.txt\", [\"wid\", \"word\", \"freq\"])\n",
    "# drop the first 100, they are all symbols\n",
    "words = words[words.wid > 100].iloc[:10000]"
   ]
  },
  {
   "cell_type": "code",
   "execution_count": null,
   "id": "553d0805",
   "metadata": {
    "collapsed": false
   },
   "outputs": [],
   "source": [
    "# read in sentences from corpus\n",
    "sents = read_csv(\"sentences.txt\", [\"sid\", \"sent\"])\n",
    "sents = sents.set_index(\"sid\")"
   ]
  },
  {
   "cell_type": "code",
   "execution_count": null,
   "id": "5775e8e5",
   "metadata": {
    "collapsed": false
   },
   "outputs": [],
   "source": [
    "# maps word ids to sentence ids in which they appear\n",
    "sent_inv = read_csv(\"inv_w.txt\", [\"wid\", \"sid\", \"spos\"])"
   ]
  },
  {
   "cell_type": "code",
   "execution_count": null,
   "id": "33241d4f",
   "metadata": {
    "collapsed": false
   },
   "outputs": [],
   "source": [
    "# match each word with the sentence in which it appears\n",
    "words = pd.merge(words, sent_inv, on = \"wid\").drop_duplicates(\"wid\")\n",
    "# get the sentences corresponding to the matched sentence\n",
    "words = pd.merge(words, sents.loc[words.sid], on = \"sid\").drop_duplicates(\"wid\")"
   ]
  },
  {
   "cell_type": "code",
   "execution_count": null,
   "id": "2c75590c",
   "metadata": {
    "collapsed": false
   },
   "outputs": [],
   "source": [
    "# json file generated with yq.\n",
    "alar = pd.read_json(\"alar.json\")\n",
    "alar = alar.drop([\"id\", \"head\", \"origin\", \"info\"], axis = 1)\n",
    "# reformat multiple definitions into one html string\n",
    "alar.defs = alar.defs.apply(lambda d: \"<br>\".join(\n",
    "    [f\"{n + 1} ({x['type']}). {x['entry']}\" for n, x in enumerate(d)]))\n",
    "# merge definitions for multiple entries\n",
    "alar = alar.groupby(\"entry\").agg({\"phone\": 'first', \"defs\": \"<br>--<br>\".join})\n",
    "alar = alar.reset_index()"
   ]
  },
  {
   "cell_type": "code",
   "execution_count": null,
   "id": "d557761a",
   "metadata": {
    "collapsed": false
   },
   "outputs": [],
   "source": [
    "# match definitions and words by the word itself\n",
    "words = pd.merge(words, alar, left_on = \"word\", right_on = \"entry\", how = \"inner\")\n",
    "words = words.drop(columns = \"entry\")\n",
    "# crop the first 2500\n",
    "words = words.iloc[:2500]\n",
    "words = words.drop(columns = [\"wid\", \"sid\"])"
   ]
  },
  {
   "cell_type": "code",
   "execution_count": null,
   "id": "79dc6c2e",
   "metadata": {
    "collapsed": false
   },
   "outputs": [],
   "source": [
    "# helpful function to generate ID's for genanki\n",
    "randrange(1<<30,1<<31)"
   ]
  },
  {
   "cell_type": "code",
   "execution_count": null,
   "id": "0b508dc2",
   "metadata": {
    "collapsed": false
   },
   "outputs": [],
   "source": [
    "# html used for the back of the anki card\n",
    "backstr = \\\n",
    "\"\"\"\n",
    "{{Expression}}\n",
    "\n",
    "<hr id=answer>\n",
    "\n",
    "{{Definition}}<br>\n",
    "{{Sentence}}<br>\n",
    "{{Phonetic}}<br>\n",
    "\"\"\"\n",
    "model = ga.Model(2144829245,\n",
    "                 \"Sentence pitch model\",\n",
    "                 fields=[{\"name\": \"Expression\"},\n",
    "                         {\"name\": \"Frequency\"},\n",
    "                         {\"name\": \"Sentence Position\"},\n",
    "                         {\"name\": \"Sentence\"},\n",
    "                         {\"name\": \"Phonetic\"},\n",
    "                         {\"name\": \"Definition\"}\n",
    "                        ],\n",
    "                 templates=[\n",
    "                     {\n",
    "                         \"name\": \"kannada vocab\",\n",
    "                         \"qfmt\": \"{{Expression}}\",\n",
    "                         \"afmt\": backstr\n",
    "                     }\n",
    "                 ])"
   ]
  },
  {
   "cell_type": "code",
   "execution_count": null,
   "id": "8e4dc2db",
   "metadata": {
    "collapsed": false
   },
   "outputs": [],
   "source": [
    "# For each sentence, wrap the word of interest in bold tags\n",
    "def transform(data):\n",
    "    word = data[0]\n",
    "    sent = data[3]\n",
    "    idx = sent.index(word)\n",
    "    data[3] = f\"{sent[:idx]}<b class = 'word'>{word}</b>{sent[idx + len(word):]}\"\n",
    "    return data"
   ]
  },
  {
   "cell_type": "code",
   "execution_count": null,
   "id": "269115c1",
   "metadata": {
    "collapsed": false
   },
   "outputs": [],
   "source": [
    "deck = ga.Deck(2138326564, 'Kannada Wikipedia 2.5k vocabulary')\n",
    "for i in range(len(words)):\n",
    "    data = transform(list(map(str, words.loc[i])))\n",
    "    note = ga.Note(model = model, fields = data)\n",
    "    deck.add_note(note)"
   ]
  },
  {
   "cell_type": "code",
   "execution_count": null,
   "id": "39dd2988",
   "metadata": {
    "collapsed": false
   },
   "outputs": [],
   "source": [
    "pkg = ga.Package(deck)\n",
    "pkg.write_to_file('output.apkg')"
   ]
  }
 ],
 "metadata": {
  "kernelspec": {
   "argv": [
    "python",
    "-m",
    "ipykernel_launcher",
    "-f",
    "{connection_file}"
   ],
   "display_name": "Python 3 (ipykernel)",
   "env": null,
   "interrupt_mode": "signal",
   "language": "python",
   "metadata": {
    "debugger": true
   },
   "name": "python3"
  },
  "language_info": {
   "codemirror_mode": {
    "name": "ipython",
    "version": 3
   },
   "file_extension": ".py",
   "mimetype": "text/x-python",
   "name": "python",
   "nbconvert_exporter": "python",
   "pygments_lexer": "ipython3",
   "version": "3.10.5"
  },
  "name": "make_deck.ipynb"
 },
 "nbformat": 4,
 "nbformat_minor": 5
}
